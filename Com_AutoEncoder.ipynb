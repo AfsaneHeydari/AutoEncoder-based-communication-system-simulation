{
  "nbformat": 4,
  "nbformat_minor": 0,
  "metadata": {
    "colab": {
      "name": "Com_AutoEncoder.ipynb",
      "provenance": [],
      "authorship_tag": "ABX9TyOKd1wgEFTiO484K1QV/Eg0",
      "include_colab_link": true
    },
    "kernelspec": {
      "name": "python3",
      "display_name": "Python 3"
    },
    "accelerator": "GPU"
  },
  "cells": [
    {
      "cell_type": "markdown",
      "metadata": {
        "id": "view-in-github",
        "colab_type": "text"
      },
      "source": [
        "<a href=\"https://colab.research.google.com/github/AfsaneHeydari/AutoEncoder-based-communication-system-simulation/blob/main/Com_AutoEncoder.ipynb\" target=\"_parent\"><img src=\"https://colab.research.google.com/assets/colab-badge.svg\" alt=\"Open In Colab\"/></a>"
      ]
    },
    {
      "cell_type": "code",
      "metadata": {
        "id": "T04W20u4VRBp"
      },
      "source": [
        "# importing libs\n",
        "import numpy as np\n",
        "import tensorflow as tf\n",
        "import keras\n",
        "from keras.layers import Input, Dense, GaussianNoise,Lambda,Dropout\n",
        "from keras.models import Model\n",
        "from keras import regularizers\n",
        "from keras.layers.normalization import BatchNormalization\n",
        "from keras.optimizers import Adam,SGD\n",
        "from keras import backend as K"
      ],
      "execution_count": null,
      "outputs": []
    },
    {
      "cell_type": "code",
      "metadata": {
        "id": "H46oRkqDVlMw"
      },
      "source": [
        "\n",
        "# for reproducing reslut\n",
        "from numpy.random import seed\n",
        "seed(1)\n",
        "tf.random.set_seed(3)"
      ],
      "execution_count": null,
      "outputs": []
    },
    {
      "cell_type": "code",
      "metadata": {
        "id": "bR51Ny7uAvEG"
      },
      "source": [
        "class CommunicationSys():\n",
        "\n",
        "  def __init__(self,n,k,model_summary,represent):\n",
        "    self.k = k\n",
        "    self.M = 2**k\n",
        "    M = self.M\n",
        "    self.k = int(self.k)\n",
        "    self.n_channel = n\n",
        "    R = self.k/self.n_channel\n",
        "    print ('M:',self.M,'k:',self.k,'n:',self.n_channel)\n",
        "\n",
        "\n",
        "    self.input_signal = Input(shape=(M,))\n",
        "    self.encoded = Dense(M, activation='relu')(self.input_signal)\n",
        "    self.encoded1 = Dense(self.n_channel, activation='linear')(self.encoded)\n",
        "    self.encoded2 = Lambda(lambda x: np.sqrt(self.n_channel)*K.l2_normalize(x,axis=1))(self.encoded1)\n",
        "\n",
        "    EbNo_train = 5.01187 #  coverted 7 db of EbNo\n",
        "    self.encoded3 = GaussianNoise(np.sqrt(1/(2*R*EbNo_train)))(self.encoded2)\n",
        "\n",
        "    self.decoded = Dense(M, activation='relu')(self.encoded3)\n",
        "    self.decoded1 = Dense(M, activation='softmax')(self.decoded)\n",
        "    self.autoencoder = Model(self.input_signal, self.decoded1)\n",
        "    adam = Adam(lr=0.01)\n",
        "    self.autoencoder.compile(optimizer=adam, loss='categorical_crossentropy')\n",
        "\n",
        "    if model_summary == 1:\n",
        "      print(self.autoencodersummary())\n",
        "\n",
        "    data = self.dataGen(self.M,self.n_channel)\n",
        "    self.autoencoder.fit(data, data,\n",
        "                epochs=45,\n",
        "                batch_size=32)\n",
        "    \n",
        "    encoder = Model(self.input_signal, self.encoded2)\n",
        "    # making decoder from full autoencoder\n",
        "    encoded_input = Input(shape=(self.n_channel,))\n",
        "\n",
        "    deco = self.autoencoder.layers[-2](encoded_input)\n",
        "    deco = self.autoencoder.layers[-1](deco)\n",
        "    decoder = Model(encoded_input, deco)\n",
        "\n",
        "    N = 50000\n",
        "    test_label = np.random.randint(M,size=N)\n",
        "    test_data = []\n",
        "\n",
        "    for i in test_label:\n",
        "        temp = np.zeros(M)\n",
        "        temp[i] = 1\n",
        "        test_data.append(temp)\n",
        "        \n",
        "    test_data = np.array(test_data)\n",
        "\n",
        "    scatter_plot = []\n",
        "    for i in range(0,M):\n",
        "        temp = np.zeros(M)\n",
        "        temp[i] = 1\n",
        "        scatter_plot.append(encoder.predict(np.expand_dims(temp,axis=0)))\n",
        "\n",
        "    scatter_plot = np.array(scatter_plot)\n",
        "    print (scatter_plot.shape)\n",
        "    if (represent == 1):\n",
        "      import matplotlib.pyplot as plt\n",
        "      scatter_plot = scatter_plot.reshape(M,2,1)\n",
        "      plt.scatter(scatter_plot[:,0],scatter_plot[:,1])\n",
        "      plt.axis((-2.5,2.5,-2.5,2.5))\n",
        "      plt.grid()\n",
        "      plt.show()\n",
        "\n",
        "    self.EbNodB_range = list(self.frange(-4,8.5,0.5))\n",
        "    self.ber = [None]*len(self.EbNodB_range)\n",
        "    for n in range(0,len(self.EbNodB_range)):\n",
        "        EbNo=10.0**(self.EbNodB_range[n]/10.0)\n",
        "        noise_std = np.sqrt(1/(2*R*EbNo))\n",
        "        noise_mean = 0\n",
        "        no_errors = 0\n",
        "        nn = N\n",
        "        noise = noise_std * np.random.randn(nn,self.n_channel)\n",
        "        encoded_signal = encoder.predict(test_data) \n",
        "        final_signal = encoded_signal + noise\n",
        "        pred_final_signal =  decoder.predict(final_signal)\n",
        "        pred_output = np.argmax(pred_final_signal,axis=1)\n",
        "        no_errors = (pred_output != test_label)\n",
        "        no_errors =  no_errors.astype(int).sum()\n",
        "        self.ber[n] = no_errors / nn \n",
        "\n",
        "    import matplotlib.pyplot as plt\n",
        "    from scipy import interpolate\n",
        "    plt.plot(self.EbNodB_range, self.ber, 'bo',label='Autoencoder({},{})'.format(n,k))\n",
        "    plt.yscale('log')\n",
        "    plt.xlabel('SNR Range')\n",
        "    plt.ylabel('Block Error Rate')\n",
        "    plt.grid()\n",
        "    plt.legend(loc='upper right',ncol = 1)\n",
        "    plt.show()\n",
        "\n",
        "\n",
        "\n",
        "  def dataGen(self,M,N):\n",
        "    N = 8000\n",
        "    label = np.random.randint(M,size=N)\n",
        "\n",
        "    data = []\n",
        "    for i in label:\n",
        "        temp = np.zeros(M)\n",
        "        temp[i] = 1\n",
        "        data.append(temp)\n",
        "\n",
        "    data = np.array(data)\n",
        "    return data\n",
        "\n",
        "  def frange(self,x, y, jump):\n",
        "    while x < y:\n",
        "      yield x\n",
        "      x += jump\n",
        "\n",
        "\n",
        "    "
      ],
      "execution_count": null,
      "outputs": []
    },
    {
      "cell_type": "code",
      "metadata": {
        "id": "ClvMeLILTLw0",
        "colab": {
          "base_uri": "https://localhost:8080/",
          "height": 1000
        },
        "outputId": "d649d225-79fa-4448-e019-837309e3134e"
      },
      "source": [
        "cs1 = CommunicationSys(2,2,0,0)"
      ],
      "execution_count": null,
      "outputs": [
        {
          "output_type": "stream",
          "text": [
            "M: 4 k: 2 n: 2\n",
            "Epoch 1/45\n",
            "250/250 [==============================] - 0s 2ms/step - loss: 0.5909\n",
            "Epoch 2/45\n",
            "250/250 [==============================] - 0s 2ms/step - loss: 0.0254\n",
            "Epoch 3/45\n",
            "250/250 [==============================] - 0s 2ms/step - loss: 0.0141\n",
            "Epoch 4/45\n",
            "250/250 [==============================] - 0s 2ms/step - loss: 0.0089\n",
            "Epoch 5/45\n",
            "250/250 [==============================] - 0s 2ms/step - loss: 0.0092\n",
            "Epoch 6/45\n",
            "250/250 [==============================] - 0s 2ms/step - loss: 0.0072\n",
            "Epoch 7/45\n",
            "250/250 [==============================] - 0s 2ms/step - loss: 0.0087\n",
            "Epoch 8/45\n",
            "250/250 [==============================] - 0s 2ms/step - loss: 0.0062\n",
            "Epoch 9/45\n",
            "250/250 [==============================] - 0s 2ms/step - loss: 0.0071\n",
            "Epoch 10/45\n",
            "250/250 [==============================] - 0s 2ms/step - loss: 0.0062\n",
            "Epoch 11/45\n",
            "250/250 [==============================] - 0s 2ms/step - loss: 0.0068\n",
            "Epoch 12/45\n",
            "250/250 [==============================] - 0s 2ms/step - loss: 0.0060\n",
            "Epoch 13/45\n",
            "250/250 [==============================] - 0s 2ms/step - loss: 0.0050\n",
            "Epoch 14/45\n",
            "250/250 [==============================] - 0s 2ms/step - loss: 0.0102\n",
            "Epoch 15/45\n",
            "250/250 [==============================] - 1s 2ms/step - loss: 0.0075\n",
            "Epoch 16/45\n",
            "250/250 [==============================] - 0s 2ms/step - loss: 0.0048\n",
            "Epoch 17/45\n",
            "250/250 [==============================] - 0s 2ms/step - loss: 0.0034\n",
            "Epoch 18/45\n",
            "250/250 [==============================] - 0s 2ms/step - loss: 0.0092\n",
            "Epoch 19/45\n",
            "250/250 [==============================] - 0s 2ms/step - loss: 0.0050\n",
            "Epoch 20/45\n",
            "250/250 [==============================] - 0s 2ms/step - loss: 0.0063\n",
            "Epoch 21/45\n",
            "250/250 [==============================] - 0s 2ms/step - loss: 0.0050\n",
            "Epoch 22/45\n",
            "250/250 [==============================] - 0s 2ms/step - loss: 0.0051\n",
            "Epoch 23/45\n",
            "250/250 [==============================] - 0s 2ms/step - loss: 0.0070\n",
            "Epoch 24/45\n",
            "250/250 [==============================] - 0s 2ms/step - loss: 0.0033\n",
            "Epoch 25/45\n",
            "250/250 [==============================] - 0s 2ms/step - loss: 0.0062\n",
            "Epoch 26/45\n",
            "250/250 [==============================] - 0s 2ms/step - loss: 0.0061\n",
            "Epoch 27/45\n",
            "250/250 [==============================] - 0s 2ms/step - loss: 0.0062\n",
            "Epoch 28/45\n",
            "250/250 [==============================] - 0s 2ms/step - loss: 0.0056\n",
            "Epoch 29/45\n",
            "250/250 [==============================] - 1s 2ms/step - loss: 0.0060\n",
            "Epoch 30/45\n",
            "250/250 [==============================] - 1s 2ms/step - loss: 0.0083\n",
            "Epoch 31/45\n",
            "250/250 [==============================] - 0s 2ms/step - loss: 0.0049\n",
            "Epoch 32/45\n",
            "250/250 [==============================] - 0s 2ms/step - loss: 0.0069\n",
            "Epoch 33/45\n",
            "250/250 [==============================] - 0s 2ms/step - loss: 0.0054\n",
            "Epoch 34/45\n",
            "250/250 [==============================] - 0s 2ms/step - loss: 0.0087\n",
            "Epoch 35/45\n",
            "250/250 [==============================] - 0s 2ms/step - loss: 0.0080\n",
            "Epoch 36/45\n",
            "250/250 [==============================] - 0s 2ms/step - loss: 0.0062\n",
            "Epoch 37/45\n",
            "250/250 [==============================] - 1s 2ms/step - loss: 0.0047\n",
            "Epoch 38/45\n",
            "250/250 [==============================] - 0s 2ms/step - loss: 0.0078\n",
            "Epoch 39/45\n",
            "250/250 [==============================] - 0s 2ms/step - loss: 0.0044\n",
            "Epoch 40/45\n",
            "250/250 [==============================] - 0s 2ms/step - loss: 0.0064\n",
            "Epoch 41/45\n",
            "250/250 [==============================] - 0s 2ms/step - loss: 0.0067\n",
            "Epoch 42/45\n",
            "250/250 [==============================] - 0s 2ms/step - loss: 0.0047\n",
            "Epoch 43/45\n",
            "250/250 [==============================] - 0s 2ms/step - loss: 0.0060\n",
            "Epoch 44/45\n",
            "250/250 [==============================] - 0s 2ms/step - loss: 0.0091\n",
            "Epoch 45/45\n",
            "250/250 [==============================] - 0s 2ms/step - loss: 0.0067\n",
            "(4, 1, 2)\n"
          ],
          "name": "stdout"
        },
        {
          "output_type": "display_data",
          "data": {
            "image/png": "[encoded data removed]",
            "text/plain": [
              "<Figure size 432x288 with 1 Axes>"
            ]
          },
          "metadata": {
            "tags": [],
            "needs_background": "light"
          }
        }
      ]
    },
    {
      "cell_type": "code",
      "metadata": {
        "id": "7dS5b0IOpvzN",
        "colab": {
          "base_uri": "https://localhost:8080/",
          "height": 1000
        },
        "outputId": "4f202189-d594-4366-ea61-943331eabc4e"
      },
      "source": [
        "cs2 = CommunicationSys(2,4,0,1)"
      ],
      "execution_count": null,
      "outputs": [
        {
          "output_type": "stream",
          "text": [
            "M: 16 k: 4 n: 2\n",
            "Epoch 1/45\n",
            "250/250 [==============================] - 0s 2ms/step - loss: 1.1303\n",
            "Epoch 2/45\n",
            "250/250 [==============================] - 0s 2ms/step - loss: 0.6362\n",
            "Epoch 3/45\n",
            "250/250 [==============================] - 0s 2ms/step - loss: 0.5985\n",
            "Epoch 4/45\n",
            "250/250 [==============================] - 1s 2ms/step - loss: 0.5767\n",
            "Epoch 5/45\n",
            "250/250 [==============================] - 0s 2ms/step - loss: 0.5920\n",
            "Epoch 6/45\n",
            "250/250 [==============================] - 0s 2ms/step - loss: 0.5701\n",
            "Epoch 7/45\n",
            "250/250 [==============================] - 0s 2ms/step - loss: 0.5770\n",
            "Epoch 8/45\n",
            "250/250 [==============================] - 0s 2ms/step - loss: 0.5667\n",
            "Epoch 9/45\n",
            "250/250 [==============================] - 0s 2ms/step - loss: 0.5760\n",
            "Epoch 10/45\n",
            "250/250 [==============================] - 0s 2ms/step - loss: 0.5491\n",
            "Epoch 11/45\n",
            "250/250 [==============================] - 1s 2ms/step - loss: 0.5659\n",
            "Epoch 12/45\n",
            "250/250 [==============================] - 0s 2ms/step - loss: 0.5616\n",
            "Epoch 13/45\n",
            "250/250 [==============================] - 1s 2ms/step - loss: 0.5588\n",
            "Epoch 14/45\n",
            "250/250 [==============================] - 0s 2ms/step - loss: 0.5557\n",
            "Epoch 15/45\n",
            "250/250 [==============================] - 1s 2ms/step - loss: 0.5633\n",
            "Epoch 16/45\n",
            "250/250 [==============================] - 0s 2ms/step - loss: 0.5440\n",
            "Epoch 17/45\n",
            "250/250 [==============================] - 0s 2ms/step - loss: 0.5767\n",
            "Epoch 18/45\n",
            "250/250 [==============================] - 0s 2ms/step - loss: 0.5608\n",
            "Epoch 19/45\n",
            "250/250 [==============================] - 0s 2ms/step - loss: 0.5481\n",
            "Epoch 20/45\n",
            "250/250 [==============================] - 0s 2ms/step - loss: 0.5556\n",
            "Epoch 21/45\n",
            "250/250 [==============================] - 0s 2ms/step - loss: 0.5682\n",
            "Epoch 22/45\n",
            "250/250 [==============================] - 0s 2ms/step - loss: 0.5562\n",
            "Epoch 23/45\n",
            "250/250 [==============================] - 0s 2ms/step - loss: 0.5433\n",
            "Epoch 24/45\n",
            "250/250 [==============================] - 0s 2ms/step - loss: 0.5688\n",
            "Epoch 25/45\n",
            "250/250 [==============================] - 1s 2ms/step - loss: 0.5790\n",
            "Epoch 26/45\n",
            "250/250 [==============================] - 0s 2ms/step - loss: 0.5556\n",
            "Epoch 27/45\n",
            "250/250 [==============================] - 0s 2ms/step - loss: 0.5583\n",
            "Epoch 28/45\n",
            "250/250 [==============================] - 0s 2ms/step - loss: 0.5708\n",
            "Epoch 29/45\n",
            "250/250 [==============================] - 0s 2ms/step - loss: 0.5573\n",
            "Epoch 30/45\n",
            "250/250 [==============================] - 0s 2ms/step - loss: 0.5352\n",
            "Epoch 31/45\n",
            "250/250 [==============================] - 0s 2ms/step - loss: 0.5524\n",
            "Epoch 32/45\n",
            "250/250 [==============================] - 0s 2ms/step - loss: 0.5679\n",
            "Epoch 33/45\n",
            "250/250 [==============================] - 0s 2ms/step - loss: 0.5550\n",
            "Epoch 34/45\n",
            "250/250 [==============================] - 0s 2ms/step - loss: 0.5563\n",
            "Epoch 35/45\n",
            "250/250 [==============================] - 0s 2ms/step - loss: 0.5516\n",
            "Epoch 36/45\n",
            "250/250 [==============================] - 0s 2ms/step - loss: 0.5613\n",
            "Epoch 37/45\n",
            "250/250 [==============================] - 0s 2ms/step - loss: 0.5547\n",
            "Epoch 38/45\n",
            "250/250 [==============================] - 0s 2ms/step - loss: 0.5627\n",
            "Epoch 39/45\n",
            "250/250 [==============================] - 0s 2ms/step - loss: 0.5441\n",
            "Epoch 40/45\n",
            "250/250 [==============================] - 0s 2ms/step - loss: 0.5456\n",
            "Epoch 41/45\n",
            "250/250 [==============================] - 0s 2ms/step - loss: 0.5504\n",
            "Epoch 42/45\n",
            "250/250 [==============================] - 0s 2ms/step - loss: 0.5497\n",
            "Epoch 43/45\n",
            "250/250 [==============================] - 0s 2ms/step - loss: 0.5554\n",
            "Epoch 44/45\n",
            "250/250 [==============================] - 0s 2ms/step - loss: 0.5595\n",
            "Epoch 45/45\n",
            "250/250 [==============================] - 0s 2ms/step - loss: 0.5485\n",
            "(16, 1, 2)\n"
          ],
          "name": "stdout"
        },
        {
          "output_type": "display_data",
          "data": {
            "image/png": "[encoded data removed]",
            "text/plain": [
              "<Figure size 432x288 with 1 Axes>"
            ]
          },
          "metadata": {
            "tags": [],
            "needs_background": "light"
          }
        },
        {
          "output_type": "display_data",
          "data": {
            "image/png": "[encoded data removed]",
            "text/plain": [
              "<Figure size 432x288 with 1 Axes>"
            ]
          },
          "metadata": {
            "tags": [],
            "needs_background": "light"
          }
        }
      ]
    },
    {
      "cell_type": "code",
      "metadata": {
        "id": "5PRpOoLVshT2",
        "colab": {
          "base_uri": "https://localhost:8080/",
          "height": 1000
        },
        "outputId": "d7c7fb55-971d-4c13-daf4-cbf66c1b2848"
      },
      "source": [
        "cs3 = CommunicationSys(7,4,0,0)"
      ],
      "execution_count": null,
      "outputs": [
        {
          "output_type": "stream",
          "text": [
            "M: 16 k: 4 n: 7\n",
            "Epoch 1/45\n",
            "250/250 [==============================] - 0s 2ms/step - loss: 0.3542\n",
            "Epoch 2/45\n",
            "250/250 [==============================] - 0s 2ms/step - loss: 0.0227\n",
            "Epoch 3/45\n",
            "250/250 [==============================] - 0s 2ms/step - loss: 0.0179\n",
            "Epoch 4/45\n",
            "250/250 [==============================] - 0s 2ms/step - loss: 0.0176\n",
            "Epoch 5/45\n",
            "250/250 [==============================] - 0s 2ms/step - loss: 0.0135\n",
            "Epoch 6/45\n",
            "250/250 [==============================] - 0s 2ms/step - loss: 0.0102\n",
            "Epoch 7/45\n",
            "250/250 [==============================] - 0s 2ms/step - loss: 0.0098\n",
            "Epoch 8/45\n",
            "250/250 [==============================] - 0s 2ms/step - loss: 0.0089\n",
            "Epoch 9/45\n",
            "250/250 [==============================] - 0s 2ms/step - loss: 0.0091\n",
            "Epoch 10/45\n",
            "250/250 [==============================] - 0s 2ms/step - loss: 0.0107\n",
            "Epoch 11/45\n",
            "250/250 [==============================] - 0s 2ms/step - loss: 0.0110\n",
            "Epoch 12/45\n",
            "250/250 [==============================] - 0s 2ms/step - loss: 0.0103\n",
            "Epoch 13/45\n",
            "250/250 [==============================] - 0s 2ms/step - loss: 0.0091\n",
            "Epoch 14/45\n",
            "250/250 [==============================] - 0s 2ms/step - loss: 0.0109\n",
            "Epoch 15/45\n",
            "250/250 [==============================] - 0s 2ms/step - loss: 0.0065\n",
            "Epoch 16/45\n",
            "250/250 [==============================] - 0s 2ms/step - loss: 0.0036\n",
            "Epoch 17/45\n",
            "250/250 [==============================] - 0s 2ms/step - loss: 0.0054\n",
            "Epoch 18/45\n",
            "250/250 [==============================] - 0s 2ms/step - loss: 0.0116\n",
            "Epoch 19/45\n",
            "250/250 [==============================] - 0s 2ms/step - loss: 0.0102\n",
            "Epoch 20/45\n",
            "250/250 [==============================] - 0s 2ms/step - loss: 0.0098\n",
            "Epoch 21/45\n",
            "250/250 [==============================] - 0s 2ms/step - loss: 0.0039\n",
            "Epoch 22/45\n",
            "250/250 [==============================] - 0s 2ms/step - loss: 0.0049\n",
            "Epoch 23/45\n",
            "250/250 [==============================] - 0s 2ms/step - loss: 0.0104\n",
            "Epoch 24/45\n",
            "250/250 [==============================] - 0s 2ms/step - loss: 0.0079\n",
            "Epoch 25/45\n",
            "250/250 [==============================] - 0s 2ms/step - loss: 0.0038\n",
            "Epoch 26/45\n",
            "250/250 [==============================] - 0s 2ms/step - loss: 0.0065\n",
            "Epoch 27/45\n",
            "250/250 [==============================] - 0s 2ms/step - loss: 0.0091\n",
            "Epoch 28/45\n",
            "250/250 [==============================] - 0s 2ms/step - loss: 0.0127\n",
            "Epoch 29/45\n",
            "250/250 [==============================] - 0s 2ms/step - loss: 0.0057\n",
            "Epoch 30/45\n",
            "250/250 [==============================] - 0s 2ms/step - loss: 0.0126\n",
            "Epoch 31/45\n",
            "250/250 [==============================] - 0s 2ms/step - loss: 0.0061\n",
            "Epoch 32/45\n",
            "250/250 [==============================] - 0s 2ms/step - loss: 0.0043\n",
            "Epoch 33/45\n",
            "250/250 [==============================] - 0s 2ms/step - loss: 0.0062\n",
            "Epoch 34/45\n",
            "250/250 [==============================] - 0s 2ms/step - loss: 0.0057\n",
            "Epoch 35/45\n",
            "250/250 [==============================] - 0s 2ms/step - loss: 0.0071\n",
            "Epoch 36/45\n",
            "250/250 [==============================] - 0s 2ms/step - loss: 0.0108\n",
            "Epoch 37/45\n",
            "250/250 [==============================] - 0s 2ms/step - loss: 0.0077\n",
            "Epoch 38/45\n",
            "250/250 [==============================] - 0s 2ms/step - loss: 0.0076\n",
            "Epoch 39/45\n",
            "250/250 [==============================] - 0s 2ms/step - loss: 0.0082\n",
            "Epoch 40/45\n",
            "250/250 [==============================] - 0s 2ms/step - loss: 0.0089\n",
            "Epoch 41/45\n",
            "250/250 [==============================] - 0s 2ms/step - loss: 0.0083\n",
            "Epoch 42/45\n",
            "250/250 [==============================] - 0s 2ms/step - loss: 0.0049\n",
            "Epoch 43/45\n",
            "250/250 [==============================] - 0s 2ms/step - loss: 0.0035\n",
            "Epoch 44/45\n",
            "250/250 [==============================] - 0s 2ms/step - loss: 0.0034\n",
            "Epoch 45/45\n",
            "250/250 [==============================] - 0s 2ms/step - loss: 0.0088\n",
            "(16, 1, 7)\n"
          ],
          "name": "stdout"
        },
        {
          "output_type": "display_data",
          "data": {
            "image/png": "[encoded data removed]",
            "text/plain": [
              "<Figure size 432x288 with 1 Axes>"
            ]
          },
          "metadata": {
            "tags": [],
            "needs_background": "light"
          }
        }
      ]
    },
    {
      "cell_type": "code",
      "metadata": {
        "id": "Ps_WKKe4sAlu",
        "colab": {
          "base_uri": "https://localhost:8080/",
          "height": 1000
        },
        "outputId": "6fc077bf-55d4-4680-e90a-a99304ea0466"
      },
      "source": [
        "cs4 = CommunicationSys(8,8,0,0)"
      ],
      "execution_count": null,
      "outputs": [
        {
          "output_type": "stream",
          "text": [
            "M: 256 k: 8 n: 8\n",
            "Epoch 1/45\n",
            "250/250 [==============================] - 1s 2ms/step - loss: 1.7540\n",
            "Epoch 2/45\n",
            "250/250 [==============================] - 1s 2ms/step - loss: 0.3140\n",
            "Epoch 3/45\n",
            "250/250 [==============================] - 1s 2ms/step - loss: 0.2147\n",
            "Epoch 4/45\n",
            "250/250 [==============================] - 1s 2ms/step - loss: 0.2102\n",
            "Epoch 5/45\n",
            "250/250 [==============================] - 1s 2ms/step - loss: 0.1861\n",
            "Epoch 6/45\n",
            "250/250 [==============================] - 1s 2ms/step - loss: 0.1644\n",
            "Epoch 7/45\n",
            "250/250 [==============================] - 1s 2ms/step - loss: 0.2050\n",
            "Epoch 8/45\n",
            "250/250 [==============================] - 1s 2ms/step - loss: 0.1600\n",
            "Epoch 9/45\n",
            "250/250 [==============================] - 1s 2ms/step - loss: 0.1480\n",
            "Epoch 10/45\n",
            "250/250 [==============================] - 1s 2ms/step - loss: 0.1158\n",
            "Epoch 11/45\n",
            "250/250 [==============================] - 1s 2ms/step - loss: 0.1195\n",
            "Epoch 12/45\n",
            "250/250 [==============================] - 1s 2ms/step - loss: 0.1830\n",
            "Epoch 13/45\n",
            "250/250 [==============================] - 1s 2ms/step - loss: 0.1343\n",
            "Epoch 14/45\n",
            "250/250 [==============================] - 1s 2ms/step - loss: 0.1274\n",
            "Epoch 15/45\n",
            "250/250 [==============================] - 1s 2ms/step - loss: 0.1356\n",
            "Epoch 16/45\n",
            "250/250 [==============================] - 1s 2ms/step - loss: 0.1314\n",
            "Epoch 17/45\n",
            "250/250 [==============================] - 1s 2ms/step - loss: 0.1089\n",
            "Epoch 18/45\n",
            "250/250 [==============================] - 1s 2ms/step - loss: 0.1320\n",
            "Epoch 19/45\n",
            "250/250 [==============================] - 1s 2ms/step - loss: 0.1221\n",
            "Epoch 20/45\n",
            "250/250 [==============================] - 1s 2ms/step - loss: 0.1252\n",
            "Epoch 21/45\n",
            "250/250 [==============================] - 1s 2ms/step - loss: 0.1151\n",
            "Epoch 22/45\n",
            "250/250 [==============================] - 1s 2ms/step - loss: 0.1256\n",
            "Epoch 23/45\n",
            "250/250 [==============================] - 1s 2ms/step - loss: 0.1188\n",
            "Epoch 24/45\n",
            "250/250 [==============================] - 1s 2ms/step - loss: 0.0957\n",
            "Epoch 25/45\n",
            "250/250 [==============================] - 1s 2ms/step - loss: 0.1075\n",
            "Epoch 26/45\n",
            "250/250 [==============================] - 1s 2ms/step - loss: 0.1297\n",
            "Epoch 27/45\n",
            "250/250 [==============================] - 1s 2ms/step - loss: 0.0990\n",
            "Epoch 28/45\n",
            "250/250 [==============================] - 1s 2ms/step - loss: 0.1066\n",
            "Epoch 29/45\n",
            "250/250 [==============================] - 1s 2ms/step - loss: 0.1295\n",
            "Epoch 30/45\n",
            "250/250 [==============================] - 1s 2ms/step - loss: 0.1166\n",
            "Epoch 31/45\n",
            "250/250 [==============================] - 1s 2ms/step - loss: 0.1106\n",
            "Epoch 32/45\n",
            "250/250 [==============================] - 1s 2ms/step - loss: 0.1042\n",
            "Epoch 33/45\n",
            "250/250 [==============================] - 1s 2ms/step - loss: 0.1160\n",
            "Epoch 34/45\n",
            "250/250 [==============================] - 1s 2ms/step - loss: 0.1051\n",
            "Epoch 35/45\n",
            "250/250 [==============================] - 1s 2ms/step - loss: 0.0950\n",
            "Epoch 36/45\n",
            "250/250 [==============================] - 1s 2ms/step - loss: 0.1124\n",
            "Epoch 37/45\n",
            "250/250 [==============================] - 1s 2ms/step - loss: 0.1061\n",
            "Epoch 38/45\n",
            "250/250 [==============================] - 1s 2ms/step - loss: 0.0969\n",
            "Epoch 39/45\n",
            "250/250 [==============================] - 1s 2ms/step - loss: 0.0988\n",
            "Epoch 40/45\n",
            "250/250 [==============================] - 1s 2ms/step - loss: 0.0848\n",
            "Epoch 41/45\n",
            "250/250 [==============================] - 1s 2ms/step - loss: 0.1054\n",
            "Epoch 42/45\n",
            "250/250 [==============================] - 1s 2ms/step - loss: 0.1021\n",
            "Epoch 43/45\n",
            "250/250 [==============================] - 1s 2ms/step - loss: 0.0936\n",
            "Epoch 44/45\n",
            "250/250 [==============================] - 1s 2ms/step - loss: 0.0782\n",
            "Epoch 45/45\n",
            "250/250 [==============================] - 1s 2ms/step - loss: 0.0875\n",
            "(256, 1, 8)\n"
          ],
          "name": "stdout"
        },
        {
          "output_type": "display_data",
          "data": {
            "image/png": "[encoded data removed]",
            "text/plain": [
              "<Figure size 432x288 with 1 Axes>"
            ]
          },
          "metadata": {
            "tags": [],
            "needs_background": "light"
          }
        }
      ]
    },
    {
      "cell_type": "code",
      "metadata": {
        "id": "QdV388mTswns",
        "colab": {
          "base_uri": "https://localhost:8080/",
          "height": 296
        },
        "outputId": "80ea0ffe-2b36-41d8-8a8d-ff49a9f3c34f"
      },
      "source": [
        "import matplotlib.pyplot as plt\n",
        "\n",
        "plt.plot(cs1.EbNodB_range, cs1.ber, 'bo')\n",
        "plt.plot(cs2.EbNodB_range, cs2.ber, 'ro')\n",
        "plt.plot(cs3.EbNodB_range, cs3.ber, 'go')\n",
        "plt.plot(cs4.EbNodB_range, cs4.ber, 'yo')\n",
        "plt.legend(['Autoencoder({},{})'.format(cs1.n_channel,cs1.k),\n",
        "           'Autoencoder({},{})'.format(cs2.n_channel,cs2.k),\n",
        "           'Autoencoder({},{})'.format(cs3.n_channel,cs3.k),\n",
        "           'Autoencoder({},{})'.format(cs4.n_channel,cs4.k)])\n",
        "plt.ylabel('Block error rate')\n",
        "plt.xlabel('SNR')"
      ],
      "execution_count": null,
      "outputs": [
        {
          "output_type": "execute_result",
          "data": {
            "text/plain": [
              "Text(0.5, 0, 'SNR')"
            ]
          },
          "metadata": {
            "tags": []
          },
          "execution_count": 58
        },
        {
          "output_type": "display_data",
          "data": {
            "image/png": "[encoded data removed]",
            "text/plain": [
              "<Figure size 432x288 with 1 Axes>"
            ]
          },
          "metadata": {
            "tags": [],
            "needs_background": "light"
          }
        }
      ]
    }
  ]
}